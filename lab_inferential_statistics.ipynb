{
 "cells": [
  {
   "cell_type": "markdown",
   "id": "dbf61225-a4f6-4cbe-a17b-26569e32571c",
   "metadata": {},
   "source": [
    "![logo_ironhack_blue 7](https://user-images.githubusercontent.com/23629340/40541063-a07a0a8a-601a-11e8-91b5-2f13e4e6b441.png)\n",
    "\n",
    "# Lab | Inferential statistics\n",
    "\n",
    "\n",
    "### Instructions\n",
    "\n",
    "1. It is assumed that the mean systolic blood pressure is `μ = 120 mm Hg`. In the Honolulu Heart Study, a sample of `n = 100` people had an average systolic blood pressure of 130.1 mm Hg with a standard deviation of 21.21 mm Hg. Is the group significantly different (with respect to systolic blood pressure!) from the regular population?\n",
    "\n",
    "   - Set up the hypothesis test.\n",
    "   - Write down all the steps followed for setting up the test.\n",
    "   - Calculate the test statistic by hand and also code it in Python. It should be 4.76190. We will take a look at how to make decisions based on this calculated value.\n",
    "\n",
    "2. If you finished the previous question, please go through the code for `principal_component_analysis_example` provided in the `files_for_lab` folder .\n",
    "\n",
    "\n",
    "\n",
    "\n"
   ]
  },
  {
   "cell_type": "code",
   "execution_count": 1,
   "id": "4e1aab2d-cdc8-4e08-85c6-fd285e3553fb",
   "metadata": {},
   "outputs": [],
   "source": [
    "import math\n",
    "import pandas as pd\n",
    "import numpy as np\n",
    "import matplotlib.pyplot as plt\n",
    "import scipy.stats as st\n",
    "import statsmodels.api as sm\n",
    "import statsmodels.formula.api as smf"
   ]
  },
  {
   "cell_type": "code",
   "execution_count": 23,
   "id": "f0ef5946-08d9-4b6f-a5fb-acd80154124b",
   "metadata": {},
   "outputs": [],
   "source": [
    "null_hypothesis = \"The mean systolic blood pressure of the population is 120 mm Hg.\"\n",
    "alt_hypothesis = \"The mean systolic blood pressure of the population is diferent to 120 mm Hg.\""
   ]
  },
  {
   "cell_type": "code",
   "execution_count": 11,
   "id": "e2dd9103-2e8a-4697-a4aa-d3c6808421e8",
   "metadata": {},
   "outputs": [],
   "source": [
    "pop_mean=120\n",
    "mean=130.1\n",
    "n=100\n",
    "std=21.21"
   ]
  },
  {
   "cell_type": "code",
   "execution_count": 17,
   "id": "cdabae18-a167-4f9b-849a-b0651fb8defc",
   "metadata": {},
   "outputs": [
    {
     "data": {
      "text/plain": [
       "4.761904761904759"
      ]
     },
     "execution_count": 17,
     "metadata": {},
     "output_type": "execute_result"
    }
   ],
   "source": [
    "t_test=(mean- pop_mean) / (std/np.sqrt(n))\n",
    "t_test\n"
   ]
  },
  {
   "cell_type": "code",
   "execution_count": 21,
   "id": "7d647626-3248-498f-9d44-07fa72dbbcf9",
   "metadata": {},
   "outputs": [
    {
     "name": "stdout",
     "output_type": "stream",
     "text": [
      "P-Value: 0.00000656\n"
     ]
    }
   ],
   "source": [
    "p_value = st.t.sf(np.abs(t_stat), df=n-1) * 2 \n",
    "print(f\"P-Value: {p_value:.8f}\")"
   ]
  },
  {
   "cell_type": "code",
   "execution_count": null,
   "id": "fe2b536d-11cf-4168-9f5c-a4a020d821aa",
   "metadata": {},
   "outputs": [],
   "source": [
    "Rechazamos la hipótesis nula."
   ]
  }
 ],
 "metadata": {
  "kernelspec": {
   "display_name": "Python 3 (ipykernel)",
   "language": "python",
   "name": "python3"
  },
  "language_info": {
   "codemirror_mode": {
    "name": "ipython",
    "version": 3
   },
   "file_extension": ".py",
   "mimetype": "text/x-python",
   "name": "python",
   "nbconvert_exporter": "python",
   "pygments_lexer": "ipython3",
   "version": "3.12.4"
  }
 },
 "nbformat": 4,
 "nbformat_minor": 5
}
